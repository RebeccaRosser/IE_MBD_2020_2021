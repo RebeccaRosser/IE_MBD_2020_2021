{
 "cells": [
  {
   "cell_type": "markdown",
   "metadata": {},
   "source": [
    "# Individual assignment: Analysis of the Impact of covid in Nicaragua, Mexico and Peru (January - September 2020) - the Latin American regions where Microwd operates\n",
    "\n",
    "The impact of covid in Nicaragua, Mexico and Peru is going to be performed as follows:\n",
    "\n",
    "1. PySpark **environment setup**\n",
    "2. Data source and **Spark data abstraction** (DataFrame) **set up**\n",
    "3. Data set **metadata analysis**:\n",
    "  1. Display **schema and size** of the DataFrame\n",
    "  2. Get one or multiple **random samples** from the data set to better understand what the data is all about\n",
    "  3. Identify **data entities**, **metrics** and **dimensions**\n",
    "  4. **Columns/fields categorization**\n",
    "4. Columns groups **basic profiling** to better understand our data set:\n",
    "  1. **Timing related** columns basic profiling\n",
    "  2. **Geography related** columns basic profiling\n",
    "  3. **Issue related** columns basic profiling\n",
    "5. **Answer some business questions** to improve service\n",
    "  1. **Top severly hit regions per country** (and figures) from January onwards\n",
    "  2. **Ratio of top hit regions** and the rest of the country (on average) for all relevant countries\n",
    "  3. **Months and weeks with the highest frequency of confirmed cases and deaths**\n",
    "\n",
    "\n",
    "Let's go for it:\n",
    "\n",
    "## 1. PySpark environment setup"
   ]
  },
  {
   "cell_type": "code",
   "execution_count": 1,
   "metadata": {},
   "outputs": [
    {
     "ename": "ModuleNotFoundError",
     "evalue": "No module named 'findspark'",
     "output_type": "error",
     "traceback": [
      "\u001b[0;31m---------------------------------------------------------------------------\u001b[0m",
      "\u001b[0;31mModuleNotFoundError\u001b[0m                       Traceback (most recent call last)",
      "\u001b[0;32m<ipython-input-1-51755b126079>\u001b[0m in \u001b[0;36m<module>\u001b[0;34m\u001b[0m\n\u001b[0;32m----> 1\u001b[0;31m \u001b[0;32mimport\u001b[0m \u001b[0mfindspark\u001b[0m\u001b[0;34m\u001b[0m\u001b[0;34m\u001b[0m\u001b[0m\n\u001b[0m\u001b[1;32m      2\u001b[0m \u001b[0mfindspark\u001b[0m\u001b[0;34m.\u001b[0m\u001b[0minit\u001b[0m\u001b[0;34m(\u001b[0m\u001b[0;34m)\u001b[0m\u001b[0;34m\u001b[0m\u001b[0;34m\u001b[0m\u001b[0m\n\u001b[1;32m      3\u001b[0m \u001b[0;34m\u001b[0m\u001b[0m\n\u001b[1;32m      4\u001b[0m \u001b[0;32mfrom\u001b[0m \u001b[0mpyspark\u001b[0m\u001b[0;34m.\u001b[0m\u001b[0mcontext\u001b[0m \u001b[0;32mimport\u001b[0m \u001b[0mSparkContext\u001b[0m\u001b[0;34m\u001b[0m\u001b[0;34m\u001b[0m\u001b[0m\n\u001b[1;32m      5\u001b[0m \u001b[0;32mfrom\u001b[0m \u001b[0mpyspark\u001b[0m\u001b[0;34m.\u001b[0m\u001b[0msql\u001b[0m\u001b[0;34m.\u001b[0m\u001b[0msession\u001b[0m \u001b[0;32mimport\u001b[0m \u001b[0mSparkSession\u001b[0m\u001b[0;34m\u001b[0m\u001b[0;34m\u001b[0m\u001b[0m\n",
      "\u001b[0;31mModuleNotFoundError\u001b[0m: No module named 'findspark'"
     ]
    }
   ],
   "source": [
    "import findspark\n",
    "findspark.init()\n",
    "\n",
    "from pyspark.context import SparkContext\n",
    "from pyspark.sql.session import SparkSession\n",
    "\n",
    "sc = SparkContext.getOrCreate()\n",
    "spark = SparkSession(sc)"
   ]
  },
  {
   "cell_type": "markdown",
   "metadata": {},
   "source": [
    "## 2. Data source and Spark data abstraction (DataFrame) setup"
   ]
  },
  {
   "cell_type": "code",
   "execution_count": 71,
   "metadata": {},
   "outputs": [],
   "source": [
    "microwdcovidDF = spark.read \\\n",
    "                 .option(\"inferSchema\", \"true\") \\\n",
    "                 .option(\"header\", \"true\") \\\n",
    "                 .csv(\"microwdcovid2_new.csv\") # In order to perform a more detailed temporal analysis of the covid trends by month and week, \n",
    "# some new variables were created based on the date variable in the original dataset. # Furthermore, the original dataset \n",
    "# contained data for all the countries in the world, but I narrowed the scope to just the few Latin American countries\n",
    "# where Microwd operates."
   ]
  },
  {
   "cell_type": "markdown",
   "metadata": {},
   "source": [
    "## 3. Data set metadata analysis\n",
    "### A. Display schema and size of the DataFrame"
   ]
  },
  {
   "cell_type": "code",
   "execution_count": 72,
   "metadata": {},
   "outputs": [
    {
     "name": "stdout",
     "output_type": "stream",
     "text": [
      "root\n",
      " |-- SNo: integer (nullable = true)\n",
      " |-- ObservationDate: string (nullable = true)\n",
      " |-- Province_State: string (nullable = true)\n",
      " |-- Country_Region: string (nullable = true)\n",
      " |-- LastUpdate: string (nullable = true)\n",
      " |-- Confirmed: integer (nullable = true)\n",
      " |-- Deaths: integer (nullable = true)\n",
      " |-- Recovered: integer (nullable = true)\n",
      " |-- date_iso: string (nullable = true)\n",
      " |-- date_month: integer (nullable = true)\n",
      " |-- date_week: integer (nullable = true)\n",
      "\n"
     ]
    },
    {
     "data": {
      "text/markdown": [
       "This DataFrame has **6746 rows**."
      ],
      "text/plain": [
       "<IPython.core.display.Markdown object>"
      ]
     },
     "metadata": {},
     "output_type": "display_data"
    }
   ],
   "source": [
    "from IPython.display import display, Markdown\n",
    "\n",
    "microwdcovidDF.printSchema()\n",
    "display(Markdown(\"This DataFrame has **%d rows**.\" % microwdcovidDF.count()))"
   ]
  },
  {
   "cell_type": "markdown",
   "metadata": {},
   "source": [
    "### B. Get one or multiple random samples from the data set"
   ]
  },
  {
   "cell_type": "code",
   "execution_count": 73,
   "metadata": {},
   "outputs": [
    {
     "data": {
      "text/plain": [
       "[Row(SNo=5487, ObservationDate='03/14/2020', Province_State=None, Country_Region='Peru', LastUpdate='2020-03-14T12:33:03', Confirmed=38, Deaths=0, Recovered=0, date_iso='14/03/2020', date_month=3, date_week=11),\n",
       " Row(SNo=5740, ObservationDate='03/15/2020', Province_State=None, Country_Region='Peru', LastUpdate='2020-03-15T18:20:18', Confirmed=43, Deaths=0, Recovered=0, date_iso='15/03/2020', date_month=3, date_week=11)]"
      ]
     },
     "execution_count": 73,
     "metadata": {},
     "output_type": "execute_result"
    }
   ],
   "source": [
    "microwdcovidDF.cache() # optimization to make the processing faster\n",
    "microwdcovidDF.sample(False, 0.1).take(2)"
   ]
  },
  {
   "cell_type": "markdown",
   "metadata": {},
   "source": [
    "### C. Data entities, metrics and dimensions\n",
    "\n",
    "I've identified the following elements:\n",
    "\n",
    "* **Entities:** *Confirmed, *Deaths*, *Recovered*\n",
    "* **Metrics:** *ObservationDate*, *date_iso*, *date_month*, *date_week*...\n",
    "* **Dimensions:** *Country_Region*, *Province_State*\n",
    "\n",
    "### D. Column categorization\n",
    "\n",
    "The following could be a potential column categorization:\n",
    "\n",
    "* **Timing related columns:** *ObservationDate*, *date_iso*, *date_month*, *date_week*...\n",
    "* **Geographic location related columns:** *Country_Region*, *Province_State*\n",
    "* **Issue related columns:** *Confirmed, *Deaths*, *Recovered*\n",
    "\n",
    "## 4. Columns groups basic profiling to better understand our data set\n",
    "### A. Basic profiling of columns related to time and issue"
   ]
  },
  {
   "cell_type": "code",
   "execution_count": 74,
   "metadata": {},
   "outputs": [],
   "source": [
    "from IPython.display import display, Markdown\n",
    "from pyspark.sql.functions import when, count, col, countDistinct, desc, first, lit"
   ]
  },
  {
   "cell_type": "code",
   "execution_count": 75,
   "metadata": {},
   "outputs": [
    {
     "name": "stdout",
     "output_type": "stream",
     "text": [
      "Summary of columns ObservationDate, Confirmed, Deaths, Recovered:\n",
      "+-------+---------------+-----------------+------------------+-----------------+\n",
      "|summary|ObservationDate|        Confirmed|            Deaths|        Recovered|\n",
      "+-------+---------------+-----------------+------------------+-----------------+\n",
      "|  count|           6746|             6746|              6746|             6746|\n",
      "|   mean|           null|12358.34983694041| 908.2365846427513| 8772.99303290839|\n",
      "| stddev|           null|28417.23397247107|1633.2652367246103|36850.66995595356|\n",
      "|    min|     01/23/2020|                0|                 0|                0|\n",
      "|    25%|           null|             2104|               106|                0|\n",
      "|    50%|           null|             5382|               366|             1087|\n",
      "|    75%|           null|           328903|             13504|           536959|\n",
      "|    max|     09/10/2020|           328903|             13504|           536959|\n",
      "+-------+---------------+-----------------+------------------+-----------------+\n",
      "\n",
      "Checking for nulls on columns Date_Month, Date_Week, Province/State, Country/Region, Confirmed, Deaths, Recovered\n",
      "+----------+---------+--------------+--------------+---------+------+---------+\n",
      "|date_month|date_week|Province_State|Country_Region|Confirmed|Deaths|Recovered|\n",
      "+----------+---------+--------------+--------------+---------+------+---------+\n",
      "|         0|        0|           342|             0|        0|     0|        0|\n",
      "+----------+---------+--------------+--------------+---------+------+---------+\n",
      "\n",
      "Checking amount of distinct values in columns Checking for nulls on columns Date_Month, Date_Week, Province/State, Country/Region, Confirmed, Deaths, Recovered:\n",
      "+----------+---------+--------------+--------------+---------+------+---------+\n",
      "|date_month|date_week|Province_State|Country_Region|Confirmed|Deaths|Recovered|\n",
      "+----------+---------+--------------+--------------+---------+------+---------+\n",
      "|         9|       30|            58|             3|     5254|  2164|     3392|\n",
      "+----------+---------+--------------+--------------+---------+------+---------+\n",
      "\n"
     ]
    }
   ],
   "source": [
    "print (\"Summary of columns ObservationDate, Confirmed, Deaths, Recovered:\")\n",
    "microwdcovidDF.select(\"ObservationDate\", \"Confirmed\", \"Deaths\", \"Recovered\").summary().show()\n",
    "\n",
    "print(\"Checking for nulls on columns Date_Month, Date_Week, Province/State, Country/Region, Confirmed, Deaths, Recovered\")\n",
    "microwdcovidDF.select([count(when(col(c).isNull(), c)).alias(c) for c in [\"date_month\", \"date_week\", \"Province_State\", \"Country_Region\", \"Confirmed\", \"Deaths\", \"Recovered\"]]).show()\n",
    "\n",
    "print(\"Checking amount of distinct values in columns Checking for nulls on columns Date_Month, Date_Week, Province/State, Country/Region, Confirmed, Deaths, Recovered:\")\n",
    "microwdcovidDF.select([countDistinct(c).alias(c) for c in [\"date_month\", \"date_week\", \"Province_State\", \"Country_Region\", \"Confirmed\", \"Deaths\", \"Recovered\"]]).show()"
   ]
  },
  {
   "cell_type": "markdown",
   "metadata": {},
   "source": [
    "## 5. Answer some business questions to improve service"
   ]
  },
  {
   "cell_type": "code",
   "execution_count": 76,
   "metadata": {},
   "outputs": [
    {
     "name": "stdout",
     "output_type": "stream",
     "text": [
      "Most and least frequent occurrences for ObservationDate column:\n"
     ]
    },
    {
     "data": {
      "text/markdown": [
       "\n",
       "| leastFreqMonth | mostFreqMonth | leastFreqWeek | mostFreqWeek |\n",
       "|----|----|----|----|\n",
       "| 1 (1 occurrences) | 8 (1829 occurrences) | 4 (1 occurrences) | 34 (413 occurrences) |\n"
      ],
      "text/plain": [
       "<IPython.core.display.Markdown object>"
      ]
     },
     "metadata": {},
     "output_type": "display_data"
    }
   ],
   "source": [
    "# Checking the frequency by counting the number of rows per month and week\n",
    "\n",
    "print (\"Most and least frequent occurrences for ObservationDate column:\")\n",
    "Date_Month = microwdcovidDF.groupBy(\"date_month\").agg(count(lit(1)).alias(\"Total\"))\n",
    "Date_Week = microwdcovidDF.groupBy(\"date_week\").agg(count(lit(1)).alias(\"Total\"))\n",
    "\n",
    "leastFreqMonth    = Date_Month.orderBy(col(\"Total\").asc()).first()\n",
    "mostFreqMonth     = Date_Month.orderBy(col(\"Total\").desc()).first()\n",
    "leastFreqWeek     = Date_Week.orderBy(col(\"Total\").asc()).first()\n",
    "mostFreqWeek      = Date_Week.orderBy(col(\"Total\").desc()).first()\n",
    "\n",
    "display(Markdown(\"\"\"\n",
    "| %s | %s | %s | %s |\n",
    "|----|----|----|----|\n",
    "| %s | %s | %s | %s |\n",
    "\"\"\" % (\"leastFreqMonth\", \"mostFreqMonth\", \"leastFreqWeek\", \"mostFreqWeek\", \\\n",
    "       \"%d (%d occurrences)\" % (leastFreqMonth[\"date_month\"], leastFreqMonth[\"Total\"]), \\\n",
    "       \"%d (%d occurrences)\" % (mostFreqMonth[\"date_month\"], mostFreqMonth[\"Total\"]), \\\n",
    "       \"%d (%d occurrences)\" % (leastFreqWeek[\"date_week\"], leastFreqWeek[\"Total\"]), \\\n",
    "       \"%d (%d occurrences)\" % (mostFreqWeek[\"date_week\"], mostFreqWeek[\"Total\"]))))"
   ]
  },
  {
   "cell_type": "code",
   "execution_count": 77,
   "metadata": {},
   "outputs": [
    {
     "name": "stdout",
     "output_type": "stream",
     "text": [
      "Most and least frequent occurrences for ObservationDate column:\n"
     ]
    },
    {
     "data": {
      "text/markdown": [
       "\n",
       "| leastFreqProvince_State  | mostFreqProvince_State | leastFreqCountry_Region | mostFreqCountry_Region |\n",
       "|----|----|----|----|\n",
       "| Pasco (106 occurrences) | None (342 occurrences) | Nicaragua (176 occurrences) | Mexico (3731 occurrences) |\n"
      ],
      "text/plain": [
       "<IPython.core.display.Markdown object>"
      ]
     },
     "metadata": {},
     "output_type": "display_data"
    }
   ],
   "source": [
    "## To check how many rows are per country\n",
    "\n",
    "print (\"Most and least frequent occurrences for ObservationDate column:\")\n",
    "Province_State = microwdcovidDF.groupBy(\"Province_State\").agg(count(lit(1)).alias(\"Total\"))\n",
    "Country_Region = microwdcovidDF.groupBy(\"Country_Region\").agg(count(lit(1)).alias(\"Total\"))\n",
    "\n",
    "leastFreqProvince_State    = Province_State.orderBy(col(\"Total\").asc()).first()\n",
    "mostFreqProvince_State     = Province_State.orderBy(col(\"Total\").desc()).first()\n",
    "leastFreqCountry_Region     = Country_Region.orderBy(col(\"Total\").asc()).first()\n",
    "mostFreqCountry_Region      = Country_Region.orderBy(col(\"Total\").desc()).first()\n",
    "\n",
    "display(Markdown(\"\"\"\n",
    "| %s | %s | %s | %s |\n",
    "|----|----|----|----|\n",
    "| %s | %s | %s | %s |\n",
    "\"\"\" % (\"leastFreqProvince_State \", \"mostFreqProvince_State\", \"leastFreqCountry_Region\", \"mostFreqCountry_Region\", \\\n",
    "       \"%s (%d occurrences)\" % (leastFreqProvince_State[\"Province_State\"], leastFreqProvince_State[\"Total\"]), \\\n",
    "       \"%s (%d occurrences)\" % (mostFreqProvince_State[\"Province_State\"], mostFreqProvince_State [\"Total\"]), \\\n",
    "       \"%s (%d occurrences)\" % (leastFreqCountry_Region[\"Country_Region\"], leastFreqCountry_Region[\"Total\"]), \\\n",
    "       \"%s (%d occurrences)\" % (mostFreqCountry_Region[\"Country_Region\"], mostFreqCountry_Region[\"Total\"]))))"
   ]
  },
  {
   "cell_type": "markdown",
   "metadata": {},
   "source": [
    "Total number of confirmed cases, deaths and recovered patients per country:"
   ]
  },
  {
   "cell_type": "code",
   "execution_count": 78,
   "metadata": {},
   "outputs": [
    {
     "name": "stdout",
     "output_type": "stream",
     "text": [
      "+--------------+---------+-------+---------+\n",
      "|Country_Region|Confirmed| Deaths|Recovered|\n",
      "+--------------+---------+-------+---------+\n",
      "|     Nicaragua|   328133|  10745|   214987|\n",
      "|          Peru| 44045174|1781960| 28293450|\n",
      "|        Mexico| 38996121|4334259| 30674174|\n",
      "+--------------+---------+-------+---------+\n",
      "\n"
     ]
    }
   ],
   "source": [
    "from pyspark.sql.functions import max, min, avg, stddev, sum\n",
    "\n",
    "microwdcovidDF\\\n",
    "    .select(\"Country_Region\", \"Confirmed\", \"Deaths\", \"Recovered\")\\\n",
    "    .groupBy(\"Country_Region\")\\\n",
    "    .agg(sum(\"Confirmed\").alias(\"Confirmed\"), sum(\"Deaths\").alias(\"Deaths\"),\\\n",
    "        sum(\"Recovered\").alias(\"Recovered\"))\\\n",
    "    .select(\"Country_Region\", \"Confirmed\", \"Deaths\", \"Recovered\").show()"
   ]
  },
  {
   "cell_type": "markdown",
   "metadata": {},
   "source": [
    "### A. Top severely hit regions\n",
    "   #### A.1 Top severly hit regions overall"
   ]
  },
  {
   "cell_type": "code",
   "execution_count": 79,
   "metadata": {},
   "outputs": [
    {
     "name": "stdout",
     "output_type": "stream",
     "text": [
      "+----------------+---------+------+\n",
      "|  Province_State|Confirmed|Deaths|\n",
      "+----------------+---------+------+\n",
      "|            Lima| 21410137|772197|\n",
      "|Ciudad de Mexico|  6973099|827157|\n",
      "|          Mexico|  4856447|563915|\n",
      "|          Callao|  2154571| 97222|\n",
      "|           Piura|  2074635|117939|\n",
      "|         Tabasco|  1843789|174606|\n",
      "|        Veracruz|  1806835|241427|\n",
      "|      Guanajuato|  1723171| 94838|\n",
      "|          Puebla|  1716279|217310|\n",
      "|      Lambayeque|  1685899|111369|\n",
      "|        Arequipa|  1546332| 61307|\n",
      "|      Nuevo Leon|  1513368|105064|\n",
      "|     La Libertad|  1447516|114960|\n",
      "|          Sonora|  1396179|152570|\n",
      "|      Tamaulipas|  1338299| 93847|\n",
      "| Baja California|  1267755|248119|\n",
      "|             Ica|  1207856| 84140|\n",
      "|         Jalisco|  1184463|136620|\n",
      "|          Ancash|  1175843| 74818|\n",
      "|         Sinaloa|  1159995|193710|\n",
      "+----------------+---------+------+\n",
      "only showing top 20 rows\n",
      "\n"
     ]
    }
   ],
   "source": [
    "#Severity is computed with regards to the total number of confirmed cases and deaths. \n",
    "\n",
    "microwdcovidDF\\\n",
    "    .where(col(\"Province_State\").isNotNull())\\\n",
    "    .select(\"Province_State\", \"Confirmed\", \"Deaths\")\\\n",
    "    .groupBy(\"Province_State\")\\\n",
    "    .agg(sum(\"Confirmed\").alias(\"Confirmed\"), sum(\"Deaths\").alias(\"Deaths\"))\\\n",
    "    .orderBy(col(\"Confirmed\").desc())\\\n",
    "    .select(\"Province_State\", \"Confirmed\", \"Deaths\").show()"
   ]
  },
  {
   "cell_type": "markdown",
   "metadata": {},
   "source": [
    " #### A.2 Top severly hit regions per country\n",
    "    Peru:"
   ]
  },
  {
   "cell_type": "code",
   "execution_count": 80,
   "metadata": {},
   "outputs": [
    {
     "name": "stdout",
     "output_type": "stream",
     "text": [
      "+--------------+--------------+---------+------+\n",
      "|Country_Region|Province_State|Confirmed|Deaths|\n",
      "+--------------+--------------+---------+------+\n",
      "|          Peru|          Lima| 21410137|772197|\n",
      "|          Peru|        Callao|  2154571| 97222|\n",
      "|          Peru|         Piura|  2074635|117939|\n",
      "|          Peru|    Lambayeque|  1685899|111369|\n",
      "|          Peru|      Arequipa|  1546332| 61307|\n",
      "|          Peru|   La Libertad|  1447516|114960|\n",
      "|          Peru|           Ica|  1207856| 84140|\n",
      "|          Peru|        Ancash|  1175843| 74818|\n",
      "|          Peru|        Loreto|  1126506| 55891|\n",
      "|          Peru|       Ucayali|   987033| 21296|\n",
      "|          Peru|    San Martin|   790425| 32150|\n",
      "|          Peru|         Junin|   768191| 33529|\n",
      "|          Peru|     Cajamarca|   650925| 18659|\n",
      "|          Peru|       Huanuco|   599115| 16624|\n",
      "|          Peru|         Cusco|   570685| 11216|\n",
      "|          Peru|      Amazonas|   522782| 11127|\n",
      "|          Peru|      Ayacucho|   390909|  9659|\n",
      "|          Peru|        Tumbes|   388224| 18479|\n",
      "|          Peru|      Moquegua|   357975|  9019|\n",
      "|          Peru|         Tacna|   335415|  5020|\n",
      "+--------------+--------------+---------+------+\n",
      "only showing top 20 rows\n",
      "\n"
     ]
    }
   ],
   "source": [
    "microwdcovidDF\\\n",
    "    .where(col(\"Province_State\").isNotNull())\\\n",
    "    .where(col(\"Country_Region\") == \"Peru\")\\\n",
    "    .select(\"Country_Region\", \"Province_State\", \"Confirmed\", \"Deaths\")\\\n",
    "    .groupBy(\"Country_Region\", \"Province_State\")\\\n",
    "    .agg(sum(\"Confirmed\").alias(\"Confirmed\"), sum(\"Deaths\").alias(\"Deaths\"))\\\n",
    "    .orderBy(col(\"Confirmed\").desc())\\\n",
    "    .select(\"Country_Region\", \"Province_State\", \"Confirmed\", \"Deaths\").show()"
   ]
  },
  {
   "cell_type": "markdown",
   "metadata": {},
   "source": [
    "    Mexico:"
   ]
  },
  {
   "cell_type": "code",
   "execution_count": 81,
   "metadata": {},
   "outputs": [
    {
     "name": "stdout",
     "output_type": "stream",
     "text": [
      "+--------------+----------------+---------+------+\n",
      "|Country_Region|  Province_State|Confirmed|Deaths|\n",
      "+--------------+----------------+---------+------+\n",
      "|        Mexico|Ciudad de Mexico|  6973099|827157|\n",
      "|        Mexico|          Mexico|  4856447|563915|\n",
      "|        Mexico|         Tabasco|  1843789|174606|\n",
      "|        Mexico|        Veracruz|  1806835|241427|\n",
      "|        Mexico|      Guanajuato|  1723171| 94838|\n",
      "|        Mexico|          Puebla|  1716279|217310|\n",
      "|        Mexico|      Nuevo Leon|  1513368|105064|\n",
      "|        Mexico|          Sonora|  1396179|152570|\n",
      "|        Mexico|      Tamaulipas|  1338299| 93847|\n",
      "|        Mexico| Baja California|  1267755|248119|\n",
      "|        Mexico|         Jalisco|  1184463|136620|\n",
      "|        Mexico|         Sinaloa|  1159995|193710|\n",
      "|        Mexico|        Coahuila|  1120183| 65755|\n",
      "|        Mexico|        Guerrero|   942270|119786|\n",
      "|        Mexico|       Michoacan|   916235| 71959|\n",
      "|        Mexico|          Oaxaca|   888948| 83328|\n",
      "|        Mexico| San Luis Potosi|   869255| 51404|\n",
      "|        Mexico|         Yucatan|   861139| 78878|\n",
      "|        Mexico|    Quintana Roo|   668827| 93800|\n",
      "|        Mexico|         Hidalgo|   641643|102357|\n",
      "+--------------+----------------+---------+------+\n",
      "only showing top 20 rows\n",
      "\n"
     ]
    }
   ],
   "source": [
    "microwdcovidDF\\\n",
    "    .where(col(\"Province_State\").isNotNull())\\\n",
    "    .where(col(\"Country_Region\") == \"Mexico\")\\\n",
    "    .select(\"Country_Region\", \"Province_State\", \"Confirmed\", \"Deaths\")\\\n",
    "    .groupBy(\"Country_Region\", \"Province_State\")\\\n",
    "    .agg(sum(\"Confirmed\").alias(\"Confirmed\"), sum(\"Deaths\").alias(\"Deaths\"))\\\n",
    "    .orderBy(col(\"Confirmed\").desc())\\\n",
    "    .select(\"Country_Region\", \"Province_State\", \"Confirmed\", \"Deaths\").show()"
   ]
  },
  {
   "cell_type": "markdown",
   "metadata": {},
   "source": [
    "    Nicaragua:"
   ]
  },
  {
   "cell_type": "code",
   "execution_count": 82,
   "metadata": {},
   "outputs": [
    {
     "name": "stdout",
     "output_type": "stream",
     "text": [
      "+--------------+--------------+---------+------+\n",
      "|Country_Region|Province_State|Confirmed|Deaths|\n",
      "+--------------+--------------+---------+------+\n",
      "+--------------+--------------+---------+------+\n",
      "\n"
     ]
    }
   ],
   "source": [
    "## The same cannot be done for Nicaragua because there are no registered regions for Peru in the COVID dataset. \n",
    "# See report for further information. \n",
    "\n",
    "microwdcovidDF\\\n",
    "    .where(col(\"Province_State\").isNotNull())\\\n",
    "    .where(col(\"Country_Region\") == \"Nicaragua\")\\\n",
    "    .select(\"Country_Region\", \"Province_State\", \"Confirmed\", \"Deaths\")\\\n",
    "    .groupBy(\"Country_Region\", \"Province_State\")\\\n",
    "    .agg(sum(\"Confirmed\").alias(\"Confirmed\"), sum(\"Deaths\").alias(\"Deaths\"))\\\n",
    "    .orderBy(col(\"Confirmed\").desc())\\\n",
    "    .select(\"Country_Region\", \"Province_State\", \"Confirmed\", \"Deaths\").show()"
   ]
  },
  {
   "cell_type": "markdown",
   "metadata": {},
   "source": [
    "### B. Weeks with the highest rate of confirmed cases and deaths per country.\n",
    "\n",
    "    Mexico:"
   ]
  },
  {
   "cell_type": "code",
   "execution_count": 83,
   "metadata": {},
   "outputs": [
    {
     "name": "stdout",
     "output_type": "stream",
     "text": [
      "+--------------+---------+---------+------+\n",
      "|Country_Region|date_week|Confirmed|Deaths|\n",
      "+--------------+---------+---------+------+\n",
      "|        Mexico|       36|  4394742|470145|\n",
      "|        Mexico|       35|  4132689|445448|\n",
      "|        Mexico|       34|  3879277|420181|\n",
      "|        Mexico|       33|  3612348|393964|\n",
      "|        Mexico|       32|  3322735|362762|\n",
      "|        Mexico|       31|  3016278|330148|\n",
      "|        Mexico|       30|  2685009|301695|\n",
      "|        Mexico|       29|  2361762|270747|\n",
      "|        Mexico|       28|  2057399|242067|\n",
      "|        Mexico|       27|  1754303|211680|\n",
      "|        Mexico|       26|  1484590|183082|\n",
      "|        Mexico|       37|  1299685|138698|\n",
      "|        Mexico|       25|  1228012|147788|\n",
      "|        Mexico|       24|   997008|117652|\n",
      "|        Mexico|       23|   792069| 93356|\n",
      "|        Mexico|       22|   612987| 67569|\n",
      "|        Mexico|       21|   458829| 49929|\n",
      "|        Mexico|       20|   330155| 34684|\n",
      "|        Mexico|       19|   231905| 23142|\n",
      "|        Mexico|       18|   154251| 14556|\n",
      "+--------------+---------+---------+------+\n",
      "only showing top 20 rows\n",
      "\n"
     ]
    }
   ],
   "source": [
    "microwdcovidDF\\\n",
    ".where(col(\"Country_Region\") == \"Mexico\")\\\n",
    "    .select(\"Country_Region\", \"date_week\", \"Confirmed\", \"Deaths\")\\\n",
    "    .groupBy(\"Country_Region\", \"date_week\")\\\n",
    "    .agg(sum(\"Confirmed\").alias(\"Confirmed\"), sum(\"Deaths\").alias(\"Deaths\"))\\\n",
    "    .orderBy(col(\"Confirmed\").desc())\\\n",
    "    .select(\"Country_Region\", \"date_week\", \"Confirmed\", \"Deaths\").show()"
   ]
  },
  {
   "cell_type": "markdown",
   "metadata": {},
   "source": [
    "    Peru:"
   ]
  },
  {
   "cell_type": "code",
   "execution_count": 84,
   "metadata": {},
   "outputs": [
    {
     "name": "stdout",
     "output_type": "stream",
     "text": [
      "+--------------+---------+---------+------+\n",
      "|Country_Region|date_week|Confirmed|Deaths|\n",
      "+--------------+---------+---------+------+\n",
      "|          Peru|       36|  4726505|206596|\n",
      "|          Peru|       35|  4411356|199212|\n",
      "|          Peru|       34|  4030867|190700|\n",
      "|          Peru|       33|  3632944|173975|\n",
      "|          Peru|       32|  3281620|145799|\n",
      "|          Peru|       31|  2918190|135106|\n",
      "|          Peru|       30|  2650251|121980|\n",
      "|          Peru|       29|  2443641| 90782|\n",
      "|          Peru|       28|  2262031| 81782|\n",
      "|          Peru|       27|  2092859| 72856|\n",
      "|          Peru|       26|  1928641| 63919|\n",
      "|          Peru|       25|  1754154| 54727|\n",
      "|          Peru|       24|  1559032| 44991|\n",
      "|          Peru|       37|  1398966| 60359|\n",
      "|          Peru|       23|  1341217| 37162|\n",
      "|          Peru|       22|  1087814| 30459|\n",
      "|          Peru|       21|   813930| 23662|\n",
      "|          Peru|       20|   616635| 17702|\n",
      "|          Peru|       19|   448393| 12595|\n",
      "|          Peru|       18|   298389|  8392|\n",
      "+--------------+---------+---------+------+\n",
      "only showing top 20 rows\n",
      "\n"
     ]
    }
   ],
   "source": [
    "microwdcovidDF\\\n",
    ".where(col(\"Country_Region\") == \"Peru\")\\\n",
    "    .select(\"Country_Region\", \"date_week\", \"Confirmed\", \"Deaths\")\\\n",
    "    .groupBy(\"Country_Region\", \"date_week\")\\\n",
    "    .agg(sum(\"Confirmed\").alias(\"Confirmed\"), sum(\"Deaths\").alias(\"Deaths\"))\\\n",
    "    .orderBy(col(\"Confirmed\").desc())\\\n",
    "    .select(\"Country_Region\", \"date_week\", \"Confirmed\", \"Deaths\").show()"
   ]
  },
  {
   "cell_type": "markdown",
   "metadata": {},
   "source": [
    "    Nicaragua:"
   ]
  },
  {
   "cell_type": "code",
   "execution_count": 85,
   "metadata": {},
   "outputs": [
    {
     "name": "stdout",
     "output_type": "stream",
     "text": [
      "+--------------+---------+---------+------+\n",
      "|Country_Region|date_week|Confirmed|Deaths|\n",
      "+--------------+---------+---------+------+\n",
      "|     Nicaragua|       36|    32826|   990|\n",
      "|     Nicaragua|       35|    31632|   963|\n",
      "|     Nicaragua|       34|    30360|   935|\n",
      "|     Nicaragua|       33|    29001|   901|\n",
      "|     Nicaragua|       32|    27527|   866|\n",
      "|     Nicaragua|       31|    25934|   819|\n",
      "|     Nicaragua|       30|    24306|   764|\n",
      "|     Nicaragua|       29|    22321|   702|\n",
      "|     Nicaragua|       28|    20223|   645|\n",
      "|     Nicaragua|       27|    17960|   589|\n",
      "|     Nicaragua|       26|    15539|   527|\n",
      "|     Nicaragua|       25|    13108|   458|\n",
      "|     Nicaragua|       24|    10607|   394|\n",
      "|     Nicaragua|       37|     9636|   288|\n",
      "|     Nicaragua|       23|     8172|   331|\n",
      "|     Nicaragua|       22|     5672|   256|\n",
      "|     Nicaragua|       21|     2408|   137|\n",
      "|     Nicaragua|       20|      404|    65|\n",
      "|     Nicaragua|       19|      121|    38|\n",
      "|     Nicaragua|       18|      101|    27|\n",
      "+--------------+---------+---------+------+\n",
      "only showing top 20 rows\n",
      "\n"
     ]
    }
   ],
   "source": [
    "microwdcovidDF\\\n",
    ".where(col(\"Country_Region\") == \"Nicaragua\")\\\n",
    "    .select(\"Country_Region\", \"date_week\", \"Confirmed\", \"Deaths\")\\\n",
    "    .groupBy(\"Country_Region\", \"date_week\")\\\n",
    "    .agg(sum(\"Confirmed\").alias(\"Confirmed\"), sum(\"Deaths\").alias(\"Deaths\"))\\\n",
    "    .orderBy(col(\"Confirmed\").desc())\\\n",
    "    .select(\"Country_Region\", \"date_week\", \"Confirmed\", \"Deaths\").show()"
   ]
  },
  {
   "cell_type": "markdown",
   "metadata": {},
   "source": [
    "### C .Ratio of average confirmed cases and deaths between most severely hit regions and countries?"
   ]
  },
  {
   "cell_type": "code",
   "execution_count": 86,
   "metadata": {},
   "outputs": [
    {
     "name": "stdout",
     "output_type": "stream",
     "text": [
      "+--------------+---------+-------+\n",
      "|Country_Region|Confirmed| Deaths|\n",
      "+--------------+---------+-------+\n",
      "|          Peru| 44045174|1781960|\n",
      "|     Nicaragua|   328133|  10745|\n",
      "|        Mexico| 38996121|4334259|\n",
      "+--------------+---------+-------+\n",
      "\n"
     ]
    }
   ],
   "source": [
    "from pyspark.sql.functions import max, min, avg, stddev, round, mean\n",
    "from pyspark.sql.types import IntegerType\n",
    "\n",
    "# Glimpse of average of deaths and confirmed cases per country:\n",
    "\n",
    "averages = microwdcovidDF\\\n",
    "    .select(\"Country_Region\", \"Confirmed\", \"Deaths\")\\\n",
    "    .groupBy(\"Country_Region\")\\\n",
    "    .agg(sum(\"Confirmed\").alias(\"Confirmed\"), sum(\"Deaths\").alias(\"Deaths\"))\\\n",
    "    .orderBy(col(\"Country_Region\").desc())\\\n",
    "    .select(\"Country_Region\", \"Confirmed\", \"Deaths\").show()"
   ]
  },
  {
   "cell_type": "markdown",
   "metadata": {},
   "source": [
    "Average per country:"
   ]
  },
  {
   "cell_type": "code",
   "execution_count": 87,
   "metadata": {},
   "outputs": [],
   "source": [
    "average_Mexico = microwdcovidDF\\\n",
    "    .where(col(\"Country_Region\") == \"Mexico\")\\\n",
    "    .select(\"Country_Region\", \"Confirmed\", \"Deaths\")\\\n",
    "    .groupBy(\"Country_Region\")\\\n",
    "    .agg(avg(\"Confirmed\").alias(\"Confirmed\"), avg(\"Deaths\").alias(\"Deaths\"))\\\n",
    "    .orderBy(col(\"Country_Region\").desc())\\\n",
    "    .select(\"Country_Region\", round(\"Confirmed\", 2).alias(\"Confirmed_Mexico\"), round(\"Deaths\", 2).alias(\"Deaths_Mexico\"))\n",
    "\n",
    "average_Peru = microwdcovidDF\\\n",
    "    .where(col(\"Country_Region\") == \"Peru\")\\\n",
    "    .select(\"Country_Region\", \"Confirmed\", \"Deaths\")\\\n",
    "    .groupBy(\"Country_Region\")\\\n",
    "    .agg(avg(\"Confirmed\").alias(\"Confirmed\"), avg(\"Deaths\").alias(\"Deaths\"))\\\n",
    "    .orderBy(col(\"Country_Region\").desc())\\\n",
    "    .select(\"Country_Region\", round(\"Confirmed\", 2).alias(\"Confirmed_Peru\"), round(\"Deaths\", 2).alias(\"Deaths_Peru\"))\n",
    "\n",
    "average_Nicaragua = microwdcovidDF\\\n",
    "    .where(col(\"Country_Region\") == \"Nicaragua\")\\\n",
    "    .select(\"Country_Region\", \"Confirmed\", \"Deaths\")\\\n",
    "    .groupBy(\"Country_Region\")\\\n",
    "    .agg(avg(\"Confirmed\").alias(\"Confirmed\"), avg(\"Deaths\").alias(\"Deaths\"))\\\n",
    "    .orderBy(col(\"Country_Region\").desc())\\\n",
    "    .select(\"Country_Region\", round(\"Confirmed\", 2).alias(\"Confirmed_Nicaragua\"), round(\"Deaths\", 2).alias(\"Deaths_Nicaragua\"))"
   ]
  },
  {
   "cell_type": "markdown",
   "metadata": {},
   "source": [
    "Ratio comparison for Peru:  "
   ]
  },
  {
   "cell_type": "code",
   "execution_count": 88,
   "metadata": {},
   "outputs": [],
   "source": [
    "from pyspark.sql.functions import max, min, avg, stddev, round, mean"
   ]
  },
  {
   "cell_type": "code",
   "execution_count": 89,
   "metadata": {},
   "outputs": [],
   "source": [
    "province_Peru = microwdcovidDF\\\n",
    "    .where((col(\"Province_State\") == \"Arequipa\") | (col(\"Province_State\") == \"San Martin\") | (col(\"Province_State\") == \"Tacna\") | (col(\"Province_State\") == \"Puno\"))\\\n",
    "    .select(\"Country_Region\", \"Province_State\", \"Confirmed\", \"Deaths\")\\\n",
    "    .groupBy(\"Country_Region\", \"Province_State\")\\\n",
    "    .agg(mean(\"Confirmed\").alias(\"Confirmed\"), mean(\"Deaths\").alias(\"Deaths\"))\\\n",
    "    .select(\"Country_Region\", \"Province_State\", round(\"Confirmed\", 2).alias(\"Confirmed\"), round(\"Deaths\", 2).alias(\"Deaths\"))"
   ]
  },
  {
   "cell_type": "code",
   "execution_count": 90,
   "metadata": {},
   "outputs": [
    {
     "name": "stdout",
     "output_type": "stream",
     "text": [
      "+--------------+---------+------+--------------+-----------+-------------------+-------------------+\n",
      "|Province_State|Confirmed|Deaths|Confirmed_Peru|Deaths_Peru| RatioConfirmedPeru|    RatioDeathsPeru|\n",
      "+--------------+---------+------+--------------+-----------+-------------------+-------------------+\n",
      "|          Puno|  3004.98| 84.11|      15514.33|     627.67|0.19369060732883728| 0.1340035368904042|\n",
      "|         Tacna|  3164.29| 47.36|      15514.33|     627.67| 0.2039591783854024|0.07545366195612345|\n",
      "|      Arequipa| 14588.04|578.37|      15514.33|     627.67| 0.9402945534870021| 0.9214555419248969|\n",
      "|    San Martin|  7456.84| 303.3|      15514.33|     627.67|  0.480642090248177|0.48321570251883955|\n",
      "+--------------+---------+------+--------------+-----------+-------------------+-------------------+\n",
      "\n"
     ]
    }
   ],
   "source": [
    "Peru_combineDf = province_Peru.join(average_Peru, province_Peru[\"Country_Region\"] == average_Peru[\"Country_Region\"])\n",
    "\n",
    "Peru_combineDf\\\n",
    "    .select(\"Province_State\", \"Confirmed\", \"Deaths\", \"Confirmed_Peru\", \"Deaths_Peru\", (col(\"Confirmed\")/col(\"Confirmed_Peru\")).alias(\"RatioConfirmedPeru\"), (col(\"Deaths\")/col(\"Deaths_Peru\")).alias(\"RatioDeathsPeru\")).show()"
   ]
  },
  {
   "cell_type": "markdown",
   "metadata": {},
   "source": [
    "Ratio comparison for Mexico:"
   ]
  },
  {
   "cell_type": "code",
   "execution_count": 91,
   "metadata": {},
   "outputs": [],
   "source": [
    "from pyspark.sql.functions import max, min, avg, stddev, round, mean\n",
    "\n",
    "province_Mexico = microwdcovidDF\\\n",
    "    .where((col(\"Province_State\") == \"Campeche\") | (col(\"Province_State\") == \"Yucatan\"))\\\n",
    "    .select(\"Country_Region\", \"Province_State\", \"Confirmed\", \"Deaths\")\\\n",
    "    .groupBy(\"Country_Region\", \"Province_State\")\\\n",
    "    .agg(mean(\"Confirmed\").alias(\"Confirmed\"), mean(\"Deaths\").alias(\"Deaths\"))\\\n",
    "    .select(\"Country_Region\", \"Province_State\", \"Confirmed\", \"Deaths\")"
   ]
  },
  {
   "cell_type": "code",
   "execution_count": 92,
   "metadata": {},
   "outputs": [
    {
     "name": "stdout",
     "output_type": "stream",
     "text": [
      "+--------------+---------+------+------------+--------------+\n",
      "|Province_State|Confirmed|Deaths|RatioConfMex|RatioDeathsMex|\n",
      "+--------------+---------+------+------------+--------------+\n",
      "|       Yucatan|  7553.85|691.91|        0.72|           0.6|\n",
      "|      Campeche|  3135.63|384.44|         0.3|          0.33|\n",
      "+--------------+---------+------+------------+--------------+\n",
      "\n"
     ]
    }
   ],
   "source": [
    "Mexico_combineDf = province_Mexico.join(average_Mexico, province_Mexico[\"Country_Region\"] == average_Mexico[\"Country_Region\"])\n",
    "\n",
    "Mexico_combineDf\\\n",
    "    .select(\"Province_State\", \"Confirmed\", \"Deaths\", \"Confirmed_Mexico\", \"Deaths_Mexico\", (col(\"Confirmed\")/col(\"Confirmed_Mexico\")).alias(\"RatioConfMex\"), (col(\"Deaths\")/col(\"Deaths_Mexico\")).alias(\"RatioDeathsMex\"))\\\n",
    "    .select(\"Province_State\", round(\"Confirmed\", 2).alias(\"Confirmed\"),\\\n",
    "    round(\"Deaths\", 2).alias(\"Deaths\"),\\\n",
    "    round(\"RatioConfMex\", 2).alias(\"RatioConfMex\"), round(\"RatioDeathsMex\", 2).alias(\"RatioDeathsMex\")).show()"
   ]
  },
  {
   "cell_type": "code",
   "execution_count": null,
   "metadata": {},
   "outputs": [],
   "source": []
  }
 ],
 "metadata": {
  "kernelspec": {
   "display_name": "Python 3",
   "language": "python",
   "name": "python3"
  },
  "language_info": {
   "codemirror_mode": {
    "name": "ipython",
    "version": 3
   },
   "file_extension": ".py",
   "mimetype": "text/x-python",
   "name": "python",
   "nbconvert_exporter": "python",
   "pygments_lexer": "ipython3",
   "version": "3.8.3"
  }
 },
 "nbformat": 4,
 "nbformat_minor": 4
}
